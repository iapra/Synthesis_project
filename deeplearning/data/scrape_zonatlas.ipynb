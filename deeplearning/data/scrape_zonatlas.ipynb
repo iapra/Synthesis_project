{
  "cells": [
    {
      "cell_type": "code",
      "source": [
        "import urllib.request\n",
        "import os\n",
        "import time"
      ],
      "outputs": [],
      "execution_count": 1,
      "metadata": {
        "collapsed": true,
        "jupyter": {
          "source_hidden": false,
          "outputs_hidden": false
        },
        "nteract": {
          "transient": {
            "deleting": false
          }
        },
        "execution": {
          "shell.execute_reply": "2021-05-27T09:52:36.782Z",
          "iopub.status.busy": "2021-05-27T09:52:36.807Z",
          "iopub.execute_input": "2021-05-27T09:52:36.812Z",
          "iopub.status.idle": "2021-05-27T09:52:36.818Z"
        }
      }
    },
    {
      "cell_type": "code",
      "source": [
        "# Adding request header browser-like user agent info\n",
        "# to circumvent crawler protection\n",
        "opener=urllib.request.build_opener()\n",
        "opener.addheaders=[('User-Agent','Mozilla/5.0 (Windows NT 6.1; WOW64) AppleWebKit/537.36 (KHTML, like Gecko) Chrome/36.0.1941.0 Safari/537.36')]\n",
        "urllib.request.install_opener(opener)"
      ],
      "outputs": [],
      "execution_count": 2,
      "metadata": {
        "collapsed": true,
        "jupyter": {
          "source_hidden": false,
          "outputs_hidden": false
        },
        "nteract": {
          "transient": {
            "deleting": false
          }
        },
        "execution": {
          "iopub.status.busy": "2021-05-27T09:52:36.823Z",
          "iopub.execute_input": "2021-05-27T09:52:36.828Z",
          "iopub.status.idle": "2021-05-27T09:52:36.832Z",
          "shell.execute_reply": "2021-05-27T09:52:36.788Z"
        }
      }
    },
    {
      "cell_type": "code",
      "source": [
        "basefolder = 'zonatlas'\n",
        "baseurl = 'https://viewermaia.zonatlas.nl/ahn3_ko_amsterdam/layers'\n",
        "layer = 'pv'\n",
        "zoomlevel = '18'\n",
        "x_domain = [134620, 134678]\n",
        "y_domain = [86112, 86164]\n",
        "\n",
        "for x in range(*x_domain):\n",
        "  for y in range(*y_domain):\n",
        "    \n",
        "    # fix for y offset at zonatlas urls\n",
        "    zonatlas_y = 262143 - y\n",
        "    \n",
        "    image_url = '/'.join([\n",
        "      baseurl, layer, zoomlevel, str(x), str(zonatlas_y)\n",
        "    ])\n",
        "    filedir = '/'.join([\n",
        "      basefolder, layer, zoomlevel, str(x)\n",
        "    ])\n",
        "    filename = str(y) + '.png'\n",
        "    \n",
        "    if not os.path.exists(filedir):\n",
        "      os.makedirs(filedir)\n",
        "    \n",
        "    # download the tile\n",
        "    urllib.request.urlretrieve(image_url, filedir + '/' + filename)\n",
        "    \n",
        "    # wait a moment to not send too many request at once\n",
        "    time.sleep(0.3)"
      ],
      "outputs": [],
      "execution_count": 7,
      "metadata": {
        "collapsed": true,
        "jupyter": {
          "source_hidden": false,
          "outputs_hidden": false
        },
        "nteract": {
          "transient": {
            "deleting": false
          }
        },
        "execution": {
          "iopub.status.busy": "2021-05-27T11:01:05.977Z",
          "iopub.execute_input": "2021-05-27T11:01:05.985Z",
          "iopub.status.idle": "2021-05-27T11:23:20.290Z",
          "shell.execute_reply": "2021-05-27T11:23:20.249Z"
        }
      }
    }
  ],
  "metadata": {
    "kernel_info": {
      "name": "python3"
    },
    "language_info": {
      "name": "python",
      "version": "3.8.3",
      "mimetype": "text/x-python",
      "codemirror_mode": {
        "name": "ipython",
        "version": 3
      },
      "pygments_lexer": "ipython3",
      "nbconvert_exporter": "python",
      "file_extension": ".py"
    },
    "kernelspec": {
      "argv": [
        "D:/dev/Anaconda3\\python.exe",
        "-m",
        "ipykernel_launcher",
        "-f",
        "{connection_file}"
      ],
      "display_name": "Python 3",
      "language": "python",
      "name": "python3"
    },
    "nteract": {
      "version": "0.28.0"
    }
  },
  "nbformat": 4,
  "nbformat_minor": 0
}