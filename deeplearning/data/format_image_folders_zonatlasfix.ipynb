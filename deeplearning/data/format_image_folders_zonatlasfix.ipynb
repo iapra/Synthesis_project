{
  "cells": [
    {
      "cell_type": "code",
      "source": [
        "import os\n",
        "import numpy as np\n",
        "import cv2"
      ],
      "outputs": [],
      "execution_count": 5,
      "metadata": {
        "collapsed": true,
        "jupyter": {
          "source_hidden": false,
          "outputs_hidden": false
        },
        "nteract": {
          "transient": {
            "deleting": false
          }
        },
        "execution": {
          "iopub.status.busy": "2021-05-29T12:02:43.846Z",
          "iopub.execute_input": "2021-05-29T12:02:43.852Z",
          "iopub.status.idle": "2021-05-29T12:02:43.866Z",
          "shell.execute_reply": "2021-05-29T12:02:43.872Z"
        }
      }
    },
    {
      "cell_type": "code",
      "source": [
        "path_A = r\"D:\\DELFT\\Q4 GEO1101 Synthesis\\ML\\tiles\\zonatlas\\ahn3_context\\18\"\n",
        "path_B = r\"D:\\DELFT\\Q4 GEO1101 Synthesis\\ML\\tiles\\zonatlas\\radiation\\18\"\n",
        "path_AB = r\"D:\\DELFT\\Q4 GEO1101 Synthesis\\ML\\tiles\\zonatlas_roofs_AB_radiation\"\n",
        "shape = (256,256,3)\n",
        "\n",
        "if not os.path.exists(path_AB):\n",
        "    os.makedirs(path_AB)\n",
        "\n",
        "def build_filedict(path):\n",
        "  filedict = {}\n",
        "  for sub in os.walk(path):\n",
        "    \n",
        "    subdir = sub[0]\n",
        "    files = sub[2]\n",
        "    dirname = os.path.basename(subdir)\n",
        "    for file in files:\n",
        "      filename = dirname + \"_\" + file\n",
        "      filepath = subdir + \"\\\\\" + file\n",
        "      filedict[filename] = filepath\n",
        "  return filedict\n",
        "\n",
        "imgs_A = build_filedict(path_A)\n",
        "imgs_B = build_filedict(path_B)"
      ],
      "outputs": [],
      "execution_count": 6,
      "metadata": {
        "collapsed": true,
        "jupyter": {
          "source_hidden": false,
          "outputs_hidden": false
        },
        "nteract": {
          "transient": {
            "deleting": false
          }
        },
        "execution": {
          "iopub.status.busy": "2021-05-29T12:02:44.380Z",
          "iopub.execute_input": "2021-05-29T12:02:44.385Z",
          "iopub.status.idle": "2021-05-29T12:02:44.418Z",
          "shell.execute_reply": "2021-05-29T12:02:44.411Z"
        }
      }
    },
    {
      "cell_type": "code",
      "source": [
        "def read_transparent_png(filename):\n",
        "    image_4channel = cv2.imread(filename, cv2.IMREAD_UNCHANGED)\n",
        "    alpha_channel = image_4channel[:,:,3]\n",
        "    rgb_channels = image_4channel[:,:,:3]\n",
        "\n",
        "    # White Background Image\n",
        "    white_background_image = np.ones_like(rgb_channels, dtype=np.uint8) * 255\n",
        "\n",
        "    # Alpha factor\n",
        "    alpha_factor = alpha_channel[:,:,np.newaxis].astype(np.float32) / 255.0\n",
        "    alpha_factor = np.concatenate((alpha_factor,alpha_factor,alpha_factor), axis=2)\n",
        "\n",
        "    # Transparent Image Rendered on White Background\n",
        "    base = rgb_channels.astype(np.float32) * alpha_factor\n",
        "    white = white_background_image.astype(np.float32) * (1 - alpha_factor)\n",
        "    final_image = base + white\n",
        "    return final_image.astype(np.uint8)"
      ],
      "outputs": [],
      "execution_count": 3,
      "metadata": {
        "collapsed": true,
        "jupyter": {
          "source_hidden": false,
          "outputs_hidden": false
        },
        "nteract": {
          "transient": {
            "deleting": false
          }
        },
        "execution": {
          "iopub.status.busy": "2021-05-29T11:29:35.870Z",
          "iopub.execute_input": "2021-05-29T11:29:35.875Z",
          "iopub.status.idle": "2021-05-29T11:29:35.884Z",
          "shell.execute_reply": "2021-05-29T11:29:35.913Z"
        }
      }
    },
    {
      "cell_type": "code",
      "source": [
        "for img, path in imgs_A.items():\n",
        "  try:\n",
        "    A = cv2.imread(imgs_A[img])\n",
        "    try:\n",
        "      B = read_transparent_png(imgs_B[img])\n",
        "    except:\n",
        "      B = cv2.imread(imgs_B[img])\n",
        "  except KeyError as e:\n",
        "    continue\n",
        "  \n",
        "  # Skip empty (white) image pairs\n",
        "  if np.mean(A) > 254:\n",
        "    continue\n",
        "  \n",
        "  # Skip invalid shaped images\n",
        "  if A.shape != shape or B.shape != shape:\n",
        "    continue\n",
        "    \n",
        "  AB = np.concatenate([A, B], 1)\n",
        "  export_path = path_AB + \"\\\\\" + img\n",
        "  cv2.imwrite(export_path, AB)"
      ],
      "outputs": [],
      "execution_count": 7,
      "metadata": {
        "collapsed": true,
        "jupyter": {
          "source_hidden": false,
          "outputs_hidden": false
        },
        "nteract": {
          "transient": {
            "deleting": false
          }
        },
        "execution": {
          "iopub.status.busy": "2021-05-29T12:02:46.129Z",
          "iopub.execute_input": "2021-05-29T12:02:46.134Z",
          "shell.execute_reply": "2021-05-29T12:03:28.549Z",
          "iopub.status.idle": "2021-05-29T12:03:28.545Z"
        }
      }
    }
  ],
  "metadata": {
    "kernel_info": {
      "name": "python3"
    },
    "language_info": {
      "name": "python",
      "version": "3.8.3",
      "mimetype": "text/x-python",
      "codemirror_mode": {
        "name": "ipython",
        "version": 3
      },
      "pygments_lexer": "ipython3",
      "nbconvert_exporter": "python",
      "file_extension": ".py"
    },
    "kernelspec": {
      "argv": [
        "D:/dev/Anaconda3\\python.exe",
        "-m",
        "ipykernel_launcher",
        "-f",
        "{connection_file}"
      ],
      "display_name": "Python 3",
      "language": "python",
      "name": "python3"
    },
    "nteract": {
      "version": "0.28.0"
    }
  },
  "nbformat": 4,
  "nbformat_minor": 0
}